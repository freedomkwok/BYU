{
 "cells": [
  {
   "cell_type": "code",
   "execution_count": 20,
   "id": "d4ba0a88",
   "metadata": {},
   "outputs": [
    {
     "name": "stdout",
     "output_type": "stream",
     "text": [
      "Found labels 0\n",
      "6 6115 6121\n"
     ]
    }
   ],
   "source": [
    "\n",
    "import glob\n",
    "import os\n",
    "import shutil\n",
    "\n",
    "images_dir = r'C:\\Users\\Freedomkwok2022\\ML_Learn\\BYU\\notebooks\\cleaned\\images\\shared_009_cleaned\\train'\n",
    "labels_dir = images_dir.replace(\"images\", \"labels\")\n",
    "images = sorted(glob.glob(os.path.join(images_dir, '*.jpg'), recursive=True))\n",
    "\n",
    "labels = set(sorted(glob.glob(os.path.join(labels_dir, '*.txt'), recursive=True)))\n",
    "\n",
    "selected_labels_dir = images_dir.replace(\"cleaned\", \"selected\").replace(\"images\", \"labels\")\n",
    "\n",
    "missing_labels = []\n",
    "backfilled_labels = []\n",
    "for i in images:\n",
    "    expeceted_label_file = i.replace(\"images\", \"labels\").replace(\"jpg\", \"txt\")\n",
    "    if expeceted_label_file not in labels:\n",
    "        missing_labels.append(expeceted_label_file)\n",
    "        missed_label_name = os.path.basename(i).replace(\"jpg\", \"txt\")\n",
    "        found_label_from_selected = os.path.join(selected_labels_dir.replace(\"shared_009_selected\", \"shared_007\"), missed_label_name)\n",
    "        if os.path.exists(found_label_from_selected):\n",
    "            backfilled_labels.append(found_label_from_selected)\n",
    "            if not os.path.exists(expeceted_label_file):\n",
    "                shutil.copy(found_label_from_selected, expeceted_label_file)\n",
    "        \n",
    "        \n",
    "print(\"Found labels\", len(backfilled_labels))\n",
    "print(len(missing_labels) , len(labels), len(images))\n",
    "    \n",
    "    "
   ]
  },
  {
   "cell_type": "markdown",
   "id": "61793f98",
   "metadata": {},
   "source": [
    "### Data Copy shared_009_cleaned"
   ]
  },
  {
   "cell_type": "code",
   "execution_count": 9,
   "id": "4a700afd",
   "metadata": {},
   "outputs": [],
   "source": [
    "import os\n",
    "import shutil\n",
    "import glob\n",
    "\n",
    "# Paths\n",
    "labels_src = r\"C:\\Users\\Freedomkwok2022\\ML_Learn\\BYU\\notebooks\\cleaned\\labels\\shared_009_cleaned\\train\"\n",
    "images_src = r\"C:\\Users\\Freedomkwok2022\\ML_Learn\\BYU\\notebooks\\cleaned\\images\\shared_009_cleaned\\train\"\n",
    "labels_dst = r\"C:\\Users\\Freedomkwok2022\\ML_Learn\\BYU\\yolo_dateset\\labels\\shared_009_cleaned\\train\"\n",
    "images_dst = r\"C:\\Users\\Freedomkwok2022\\ML_Learn\\BYU\\yolo_dateset\\images\\shared_009_cleaned\\train\"\n",
    "\n",
    "# Create destination directories if they don't exist\n",
    "os.makedirs(labels_dst, exist_ok=True)\n",
    "os.makedirs(images_dst, exist_ok=True)\n",
    "\n",
    "# Pattern match for labels\n",
    "patterns = [\"*r090.txt\", \"*r100.txt\", \"r070.txt\"]\n",
    "\n",
    "# Collect matching label files\n",
    "matched_labels = []\n",
    "for pattern in patterns:\n",
    "    matched_labels.extend(glob.glob(os.path.join(labels_src, pattern)))\n",
    "\n",
    "# Copy matching label and corresponding image\n",
    "for label_path in matched_labels:\n",
    "    filename = os.path.basename(label_path)\n",
    "    image_name = os.path.splitext(filename)[0] + \".jpg\"\n",
    "    image_path = os.path.join(images_src, image_name)\n",
    "\n",
    "    # Copy label\n",
    "    shutil.copy2(label_path, os.path.join(labels_dst, filename))\n",
    "\n",
    "    # Copy image if it exists\n",
    "    if os.path.exists(image_path):\n",
    "        shutil.copy2(image_path, os.path.join(images_dst, image_name))\n",
    "    else:\n",
    "        print(f\"[Warning] Image not found: {image_path}\")\n"
   ]
  },
  {
   "cell_type": "code",
   "execution_count": 7,
   "id": "058368cb",
   "metadata": {},
   "outputs": [
    {
     "name": "stdout",
     "output_type": "stream",
     "text": [
      "All label files updated with width and height = 0.09.\n"
     ]
    }
   ],
   "source": [
    "import os\n",
    "import glob\n",
    "\n",
    "labels_src = r\"C:\\Users\\Freedomkwok2022\\ML_Learn\\BYU\\notebooks\\cleaned\\labels\\shared_009_cleaned\\train\"\n",
    "\n",
    "# Get all .txt files\n",
    "label_files = glob.glob(os.path.join(labels_src, \"*.txt\"))\n",
    "\n",
    "for file_path in label_files:\n",
    "    with open(file_path, 'r') as f:\n",
    "        lines = f.readlines()\n",
    "\n",
    "    # Modify each line's last two columns\n",
    "    modified_lines = []\n",
    "    for line in lines:\n",
    "        parts = line.strip().split()\n",
    "        if len(parts) == 5:\n",
    "            parts[3] = \"0.09\"  # width\n",
    "            parts[4] = \"0.09\"  # height\n",
    "            modified_lines.append(\" \".join(parts))\n",
    "        else:\n",
    "            modified_lines.append(line.strip())  # Keep unmodified if not exactly 5 columns\n",
    "\n",
    "    # Overwrite the file with updated lines\n",
    "    with open(file_path, 'w') as f:\n",
    "        f.write(\"\\n\".join(modified_lines) + \"\\n\")\n",
    "\n",
    "print(\"All label files updated with width and height = 0.09.\")"
   ]
  },
  {
   "cell_type": "code",
   "execution_count": 10,
   "id": "1db0822b",
   "metadata": {},
   "outputs": [
    {
     "name": "stdout",
     "output_type": "stream",
     "text": [
      "Matching image files found: 3078\n"
     ]
    }
   ],
   "source": [
    "# Image source directory\n",
    "images_src = r\"C:\\Users\\Freedomkwok2022\\ML_Learn\\BYU\\notebooks\\cleaned\\images\\shared_009_cleaned\\train\"\n",
    "\n",
    "image_exists = sum(\n",
    "    os.path.exists(os.path.join(images_src, os.path.splitext(os.path.basename(label))[0] + \".jpg\"))\n",
    "    for label in matched_labels\n",
    ")\n",
    "\n",
    "print(f\"Matching image files found: {image_exists}\")"
   ]
  },
  {
   "cell_type": "code",
   "execution_count": 4,
   "id": "d691e0e2",
   "metadata": {},
   "outputs": [
    {
     "name": "stdout",
     "output_type": "stream",
     "text": [
      "Found the following RXXXX types in shared_009:\n",
      "r070: 1801 files\n",
      "r090: 1982 files\n",
      "r100: 1096 files\n",
      "r110: 328 files\n",
      "r120: 259 files\n",
      "r130: 236 files\n",
      "r140: 245 files\n",
      "r150: 223 files\n",
      "r160: 168 files\n",
      "r170: 131 files\n",
      "r180: 135 files\n",
      "r190: 57 files\n",
      "r200: 80 files\n",
      "r210: 62 files\n",
      "r220: 51 files\n",
      "r230: 58 files\n",
      "r240: 19 files\n",
      "r250: 15 files\n",
      "r260: 41 files\n",
      "r270: 43 files\n",
      "r280: 27 files\n",
      "r290: 12 files\n",
      "r300: 13 files\n",
      "r310: 4 files\n",
      "r320: 3 files\n",
      "r330: 3 files\n",
      "r340: 5 files\n",
      "r350: 1 files\n",
      "r370: 18 files\n",
      "r380: 8 files\n",
      "r390: 18 files\n",
      "r400: 16 files\n",
      "r420: 25 files\n",
      "r440: 4 files\n"
     ]
    }
   ],
   "source": [
    "import os\n",
    "import glob\n",
    "import re\n",
    "from collections import Counter\n",
    "\n",
    "labels_src = r\"C:\\Users\\Freedomkwok2022\\ML_Learn\\BYU\\notebooks\\cleaned\\labels\\shared_009_cleaned\\train\"\n",
    "\n",
    "# Match all .txt label files\n",
    "label_files = glob.glob(os.path.join(labels_src, \"*.txt\"))\n",
    "\n",
    "# Extract rXXXX values using regex\n",
    "r_pattern = re.compile(r'_r(\\d{3})\\.txt$')\n",
    "r_counts = Counter()\n",
    "\n",
    "for filepath in label_files:\n",
    "    filename = os.path.basename(filepath)\n",
    "    match = r_pattern.search(filename)\n",
    "    if match:\n",
    "        r_value = f\"r{match.group(1)}\"\n",
    "        r_counts[r_value] += 1\n",
    "\n",
    "# Print summary\n",
    "print(\"Found the following RXXXX types in shared_009:\")\n",
    "for r_value, count in sorted(r_counts.items()):\n",
    "    print(f\"{r_value}: {count} files\")\n"
   ]
  },
  {
   "cell_type": "code",
   "execution_count": null,
   "id": "e3612779",
   "metadata": {},
   "outputs": [],
   "source": [
    "import os\n",
    "import shutil\n",
    "import glob\n",
    "\n",
    "# Paths\n",
    "labels_src = r\"C:\\Users\\Freedomkwok2022\\ML_Learn\\BYU\\notebooks\\cleaned\\labels\\shared_009_cleaned\\train\"\n",
    "images_src = r\"C:\\Users\\Freedomkwok2022\\ML_Learn\\BYU\\notebooks\\cleaned\\images\\shared_009_cleaned\\train\"\n",
    "labels_dst = r\"C:\\Users\\Freedomkwok2022\\ML_Learn\\BYU\\yolo_dateset\\labels\\shared_009_cleaned\\train\"\n",
    "images_dst = r\"C:\\Users\\Freedomkwok2022\\ML_Learn\\BYU\\yolo_dateset\\images\\shared_009_cleaned\\train\"\n",
    "\n",
    "# Create destination directories if they don't exist\n",
    "os.makedirs(labels_dst, exist_ok=True)\n",
    "os.makedirs(images_dst, exist_ok=True)\n",
    "\n",
    "# Pattern match for labels\n",
    "patterns = [\"*r090.txt\", \"*r100.txt\", \"r070.txt\"]\n",
    "\n",
    "# Collect matching label files\n",
    "matched_labels = []\n",
    "for pattern in patterns:\n",
    "    matched_labels.extend(glob.glob(os.path.join(labels_src, pattern)))\n",
    "\n",
    "# Copy matching label and corresponding image\n",
    "for label_path in matched_labels:\n",
    "    filename = os.path.basename(label_path)\n",
    "    image_name = os.path.splitext(filename)[0] + \".jpg\"\n",
    "    image_path = os.path.join(images_src, image_name)\n",
    "\n",
    "    # Copy label\n",
    "    shutil.copy2(label_path, os.path.join(labels_dst, filename))\n",
    "\n",
    "    # Copy image if it exists\n",
    "    if os.path.exists(image_path):\n",
    "        shutil.copy2(image_path, os.path.join(images_dst, image_name))\n",
    "    else:\n",
    "        print(f\"[Warning] Image not found: {image_path}\")\n"
   ]
  }
 ],
 "metadata": {
  "kernelspec": {
   "display_name": "Python 3",
   "language": "python",
   "name": "python3"
  },
  "language_info": {
   "codemirror_mode": {
    "name": "ipython",
    "version": 3
   },
   "file_extension": ".py",
   "mimetype": "text/x-python",
   "name": "python",
   "nbconvert_exporter": "python",
   "pygments_lexer": "ipython3",
   "version": "3.10.16"
  }
 },
 "nbformat": 4,
 "nbformat_minor": 5
}
