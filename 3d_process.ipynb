{
 "cells": [
  {
   "cell_type": "code",
   "execution_count": null,
   "id": "7cc18b6d",
   "metadata": {},
   "outputs": [],
   "source": [
    "\n",
    "import torch\n",
    "img = torch.ones(2, 3, 3)\n",
    "print(img.shape)\n",
    "print(img)\n",
    "D = 3\n",
    "resullt = img.unsqueeze(2) #unsqueeze 0 add \n",
    "print(resullt.shape)\n",
    "resullt"
   ]
  },
  {
   "cell_type": "code",
   "execution_count": 1,
   "id": "8923e216",
   "metadata": {},
   "outputs": [],
   "source": [
    "import torch\n",
    "import math\n",
    "\n",
    "def generate_gaussian_heatmap_3d(shape, center, sigma=3.0):\n",
    "    \"\"\"\n",
    "    Create a 3D Gaussian heatmap.\n",
    "    heatmap[z, y, x] = exp(-((x - cx)² + (y - cy)² + (z - cz)²) / (2 * σ²))\n",
    "    Args:\n",
    "        shape: Tuple[int] = (D, H, W) — volume shape\n",
    "        center: Tuple[float] = (cz, cy, cx) — center point of the object\n",
    "        sigma: float — standard deviation of the Gaussian\n",
    "    Returns:\n",
    "        torch.Tensor of shape (D, H, W)\n",
    "    \"\"\"\n",
    "    D, H, W = shape\n",
    "    cz, cy, cx = center\n",
    "\n",
    "    # Create coordinate grid\n",
    "    z = torch.arange(D).view(D, 1, 1).float()\n",
    "    y = torch.arange(H).view(1, H, 1).float()\n",
    "    x = torch.arange(W).view(1, 1, W).float()\n",
    "\n",
    "    # Compute squared distance\n",
    "    dz2 = (z - cz) ** 2\n",
    "    dy2 = (y - cy) ** 2\n",
    "    dx2 = (x - cx) ** 2\n",
    "\n",
    "    dist2 = dz2 + dy2 + dx2  # broadcasted automatically\n",
    "\n",
    "    # Apply Gaussian formula\n",
    "    heatmap = torch.exp(-dist2 / (2 * sigma ** 2))\n",
    "\n",
    "    # Normalize (optional)\n",
    "    heatmap = heatmap / heatmap.max()\n",
    "\n",
    "    return heatmap"
   ]
  },
  {
   "cell_type": "code",
   "execution_count": 2,
   "id": "2005064f",
   "metadata": {},
   "outputs": [
    {
     "name": "stdout",
     "output_type": "stream",
     "text": [
      "torch.Size([128, 704, 704])\n",
      "tensor(1.)\n"
     ]
    }
   ],
   "source": [
    "# Shape of the volume\n",
    "shape = (128, 704, 704)\n",
    "\n",
    "# Ground truth center\n",
    "center = (64, 352, 352)  # center of the volume\n",
    "\n",
    "# Generate heatmap\n",
    "heatmap = generate_gaussian_heatmap_3d(shape, center, sigma=5.0)\n",
    "\n",
    "print(heatmap.shape)  # torch.Size([128, 704, 704])\n",
    "print(heatmap.max())  # should be ~1.0 at the center"
   ]
  },
  {
   "cell_type": "code",
   "execution_count": null,
   "id": "f58046a7",
   "metadata": {},
   "outputs": [],
   "source": []
  }
 ],
 "metadata": {
  "kernelspec": {
   "display_name": "Python 3",
   "language": "python",
   "name": "python3"
  },
  "language_info": {
   "codemirror_mode": {
    "name": "ipython",
    "version": 3
   },
   "file_extension": ".py",
   "mimetype": "text/x-python",
   "name": "python",
   "nbconvert_exporter": "python",
   "pygments_lexer": "ipython3",
   "version": "3.11.11"
  }
 },
 "nbformat": 4,
 "nbformat_minor": 5
}
