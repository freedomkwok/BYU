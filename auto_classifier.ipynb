{
 "cells": [
  {
   "cell_type": "code",
   "execution_count": 5,
   "id": "c3bda692",
   "metadata": {},
   "outputs": [
    {
     "ename": "AttributeError",
     "evalue": "module 'clip' has no attribute 'load'",
     "output_type": "error",
     "traceback": [
      "\u001b[1;31m---------------------------------------------------------------------------\u001b[0m",
      "\u001b[1;31mAttributeError\u001b[0m                            Traceback (most recent call last)",
      "Cell \u001b[1;32mIn[5], line 25\u001b[0m\n\u001b[0;32m     23\u001b[0m \u001b[38;5;66;03m# === Setup ===\u001b[39;00m\n\u001b[0;32m     24\u001b[0m device \u001b[38;5;241m=\u001b[39m \u001b[38;5;124m\"\u001b[39m\u001b[38;5;124mcuda\u001b[39m\u001b[38;5;124m\"\u001b[39m \u001b[38;5;28;01mif\u001b[39;00m torch\u001b[38;5;241m.\u001b[39mcuda\u001b[38;5;241m.\u001b[39mis_available() \u001b[38;5;28;01melse\u001b[39;00m \u001b[38;5;124m\"\u001b[39m\u001b[38;5;124mcpu\u001b[39m\u001b[38;5;124m\"\u001b[39m\n\u001b[1;32m---> 25\u001b[0m model, preprocess \u001b[38;5;241m=\u001b[39m \u001b[43mclip\u001b[49m\u001b[38;5;241;43m.\u001b[39;49m\u001b[43mload\u001b[49m(\u001b[38;5;124m\"\u001b[39m\u001b[38;5;124mViT-B/32\u001b[39m\u001b[38;5;124m\"\u001b[39m, device\u001b[38;5;241m=\u001b[39mdevice)\n\u001b[0;32m     27\u001b[0m \u001b[38;5;66;03m# === Load images ===\u001b[39;00m\n\u001b[0;32m     28\u001b[0m image_paths \u001b[38;5;241m=\u001b[39m [\n\u001b[0;32m     29\u001b[0m     os\u001b[38;5;241m.\u001b[39mpath\u001b[38;5;241m.\u001b[39mjoin(image_folder, f)\n\u001b[0;32m     30\u001b[0m     \u001b[38;5;28;01mfor\u001b[39;00m f \u001b[38;5;129;01min\u001b[39;00m os\u001b[38;5;241m.\u001b[39mlistdir(image_folder)\n\u001b[0;32m     31\u001b[0m     \u001b[38;5;28;01mif\u001b[39;00m f\u001b[38;5;241m.\u001b[39mlower()\u001b[38;5;241m.\u001b[39mendswith((\u001b[38;5;124m'\u001b[39m\u001b[38;5;124m.jpg\u001b[39m\u001b[38;5;124m'\u001b[39m, \u001b[38;5;124m'\u001b[39m\u001b[38;5;124m.jpeg\u001b[39m\u001b[38;5;124m'\u001b[39m, \u001b[38;5;124m'\u001b[39m\u001b[38;5;124m.png\u001b[39m\u001b[38;5;124m'\u001b[39m))\n\u001b[0;32m     32\u001b[0m ]\n",
      "\u001b[1;31mAttributeError\u001b[0m: module 'clip' has no attribute 'load'"
     ]
    }
   ],
   "source": [
    "import os\n",
    "from PIL import Image\n",
    "import torch\n",
    "import clip\n",
    "import numpy as np\n",
    "from sklearn.cluster import KMeans\n",
    "\n",
    "# === CONFIG ===\n",
    "image_folder = \"C:/path/to/your/image_folder\"  # ← Change this\n",
    "n_clusters = 5  # You can tune this\n",
    "\n",
    "image_folder = r\"C:\\Users\\Freedomkwok2022\\ML_Learn\\BYU\\notebooks\\cleaned\\images\\shared_009_cleaned\\train\"\n",
    "base_dst = r\"C:\\Users\\Freedomkwok2022\\ML_Learn\\BYU\\notebooks\\yolo_dataset_cluster\"\n",
    "\n",
    "# Destination folders\n",
    "labels_dst_train = os.path.join(base_dst, r\"labels\\shared_010_cleaned\\train\")\n",
    "images_dst_train = os.path.join(base_dst, r\"images\\shared_010_cleaned\\train\")\n",
    "output_file =  os.path.join(base_dst, \"image_clusters.txt\")\n",
    "os.makedirs(labels_dst_train, exist_ok = True)\n",
    "os.makedirs(images_dst_train,  exist_ok = True)\n",
    "\n",
    "\n",
    "# === Setup ===\n",
    "device = \"cuda\" if torch.cuda.is_available() else \"cpu\"\n",
    "model, preprocess = clip.load(\"ViT-B/32\", device=device)\n",
    "\n",
    "# === Load images ===\n",
    "image_paths = [\n",
    "    os.path.join(image_folder, f)\n",
    "    for f in os.listdir(image_folder)\n",
    "    if f.lower().endswith(('.jpg', '.jpeg', '.png'))\n",
    "]\n",
    "\n",
    "print(f\"Found {len(image_paths)} images.\")\n",
    "\n",
    "# === Extract CLIP features ===\n",
    "features = []\n",
    "valid_paths = []\n",
    "\n",
    "for path in image_paths:\n",
    "    try:\n",
    "        img = preprocess(Image.open(path).convert(\"L\")).unsqueeze(0).to(device)\n",
    "        with torch.no_grad():\n",
    "            feat = model.encode_image(img)\n",
    "        features.append(feat.cpu().numpy())\n",
    "        valid_paths.append(path)\n",
    "    except Exception as e:\n",
    "        print(f\"❌ Skipping {path}: {e}\")\n",
    "\n",
    "features_np = np.vstack(features)\n",
    "\n",
    "# === Cluster features ===\n",
    "kmeans = KMeans(n_clusters=n_clusters, random_state=42).fit(features_np)\n",
    "labels = kmeans.labels_\n",
    "\n",
    "# === Save result to file ===\n",
    "with open(output_file, 'w') as f:\n",
    "    for path, label in zip(valid_paths, labels):\n",
    "        f.write(f\"{os.path.basename(path)} {label}\\n\")\n",
    "\n",
    "print(f\"\\n✅ Done. Total clusters: {n_clusters}\")\n",
    "print(f\"📄 Output saved to: {output_file}\")\n"
   ]
  },
  {
   "cell_type": "code",
   "execution_count": 6,
   "id": "eb2ee777",
   "metadata": {},
   "outputs": [
    {
     "name": "stdout",
     "output_type": "stream",
     "text": [
      "^C\n"
     ]
    }
   ],
   "source": [
    "!pip uninstall clip"
   ]
  },
  {
   "cell_type": "code",
   "execution_count": null,
   "id": "658d935d",
   "metadata": {},
   "outputs": [],
   "source": [
    "!pip install git+https://github.com/openai/CLIP.git"
   ]
  },
  {
   "cell_type": "code",
   "execution_count": null,
   "id": "c283acc0",
   "metadata": {},
   "outputs": [],
   "source": []
  }
 ],
 "metadata": {
  "kernelspec": {
   "display_name": "Python 3",
   "language": "python",
   "name": "python3"
  },
  "language_info": {
   "codemirror_mode": {
    "name": "ipython",
    "version": 3
   },
   "file_extension": ".py",
   "mimetype": "text/x-python",
   "name": "python",
   "nbconvert_exporter": "python",
   "pygments_lexer": "ipython3",
   "version": "3.10.16"
  }
 },
 "nbformat": 4,
 "nbformat_minor": 5
}
