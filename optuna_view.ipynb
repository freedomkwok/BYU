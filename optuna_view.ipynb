{
 "cells": [
  {
   "cell_type": "code",
   "execution_count": 1,
   "id": "97cd2471",
   "metadata": {},
   "outputs": [
    {
     "name": "stderr",
     "output_type": "stream",
     "text": [
      "/Users/freedomkwokmacbookpro/Github/LLM/llama/env/lib/python3.11/site-packages/tqdm/auto.py:21: TqdmWarning: IProgress not found. Please update jupyter and ipywidgets. See https://ipywidgets.readthedocs.io/en/stable/user_install.html\n",
      "  from .autonotebook import tqdm as notebook_tqdm\n"
     ]
    },
    {
     "ename": "KeyError",
     "evalue": "'Record does not exist.'",
     "output_type": "error",
     "traceback": [
      "\u001b[31m---------------------------------------------------------------------------\u001b[39m",
      "\u001b[31mKeyError\u001b[39m                                  Traceback (most recent call last)",
      "\u001b[36mCell\u001b[39m\u001b[36m \u001b[39m\u001b[32mIn[1]\u001b[39m\u001b[32m, line 5\u001b[39m\n\u001b[32m      2\u001b[39m \u001b[38;5;28;01mfrom\u001b[39;00m\u001b[38;5;250m \u001b[39m\u001b[34;01moptuna\u001b[39;00m\u001b[34;01m.\u001b[39;00m\u001b[34;01mvisualization\u001b[39;00m\u001b[38;5;250m \u001b[39m\u001b[38;5;28;01mimport\u001b[39;00m plot_optimization_history, plot_param_importances, plot_parallel_coordinate\n\u001b[32m      4\u001b[39m \u001b[38;5;66;03m# Load or reuse your study\u001b[39;00m\n\u001b[32m----> \u001b[39m\u001b[32m5\u001b[39m study = \u001b[43moptuna\u001b[49m\u001b[43m.\u001b[49m\u001b[43mload_study\u001b[49m\u001b[43m(\u001b[49m\u001b[43mstudy_name\u001b[49m\u001b[43m=\u001b[49m\u001b[33;43m\"\u001b[39;49m\u001b[33;43mshared_010_scaled\u001b[39;49m\u001b[33;43m\"\u001b[39;49m\u001b[43m,\u001b[49m\u001b[43m \u001b[49m\u001b[43mstorage\u001b[49m\u001b[43m=\u001b[49m\u001b[33;43m\"\u001b[39;49m\u001b[33;43msqlite:///yolo_hpo.db\u001b[39;49m\u001b[33;43m\"\u001b[39;49m\u001b[43m)\u001b[49m  \u001b[38;5;66;03m# or other DB\u001b[39;00m\n\u001b[32m      7\u001b[39m \u001b[38;5;66;03m# Plot optimization history (objective value per trial)\u001b[39;00m\n\u001b[32m      8\u001b[39m plot_optimization_history(study).show()\n",
      "\u001b[36mFile \u001b[39m\u001b[32m~/Github/LLM/llama/env/lib/python3.11/site-packages/optuna/_convert_positional_args.py:134\u001b[39m, in \u001b[36mconvert_positional_args.<locals>.converter_decorator.<locals>.converter_wrapper\u001b[39m\u001b[34m(*args, **kwargs)\u001b[39m\n\u001b[32m    128\u001b[39m     \u001b[38;5;28;01mraise\u001b[39;00m \u001b[38;5;167;01mTypeError\u001b[39;00m(\n\u001b[32m    129\u001b[39m         \u001b[33mf\u001b[39m\u001b[33m\"\u001b[39m\u001b[38;5;132;01m{\u001b[39;00mfunc.\u001b[34m__name__\u001b[39m\u001b[38;5;132;01m}\u001b[39;00m\u001b[33m() got multiple values for arguments \u001b[39m\u001b[38;5;132;01m{\u001b[39;00mduplicated_kwds\u001b[38;5;132;01m}\u001b[39;00m\u001b[33m.\u001b[39m\u001b[33m\"\u001b[39m\n\u001b[32m    130\u001b[39m     )\n\u001b[32m    132\u001b[39m kwargs.update(inferred_kwargs)\n\u001b[32m--> \u001b[39m\u001b[32m134\u001b[39m \u001b[38;5;28;01mreturn\u001b[39;00m \u001b[43mfunc\u001b[49m\u001b[43m(\u001b[49m\u001b[43m*\u001b[49m\u001b[43m*\u001b[49m\u001b[43mkwargs\u001b[49m\u001b[43m)\u001b[49m\n",
      "\u001b[36mFile \u001b[39m\u001b[32m~/Github/LLM/llama/env/lib/python3.11/site-packages/optuna/study/study.py:1385\u001b[39m, in \u001b[36mload_study\u001b[39m\u001b[34m(study_name, storage, sampler, pruner)\u001b[39m\n\u001b[32m   1379\u001b[39m     study_name = study_names[\u001b[32m0\u001b[39m]\n\u001b[32m   1380\u001b[39m     _logger.info(\n\u001b[32m   1381\u001b[39m         \u001b[33mf\u001b[39m\u001b[33m\"\u001b[39m\u001b[33mStudy name was omitted but trying to load \u001b[39m\u001b[33m'\u001b[39m\u001b[38;5;132;01m{\u001b[39;00mstudy_name\u001b[38;5;132;01m}\u001b[39;00m\u001b[33m'\u001b[39m\u001b[33m because that was the only \u001b[39m\u001b[33m\"\u001b[39m\n\u001b[32m   1382\u001b[39m         \u001b[33m\"\u001b[39m\u001b[33mstudy found in the storage.\u001b[39m\u001b[33m\"\u001b[39m\n\u001b[32m   1383\u001b[39m     )\n\u001b[32m-> \u001b[39m\u001b[32m1385\u001b[39m study = \u001b[43mStudy\u001b[49m\u001b[43m(\u001b[49m\u001b[43mstudy_name\u001b[49m\u001b[43m=\u001b[49m\u001b[43mstudy_name\u001b[49m\u001b[43m,\u001b[49m\u001b[43m \u001b[49m\u001b[43mstorage\u001b[49m\u001b[43m=\u001b[49m\u001b[43mstorage\u001b[49m\u001b[43m,\u001b[49m\u001b[43m \u001b[49m\u001b[43msampler\u001b[49m\u001b[43m=\u001b[49m\u001b[43msampler\u001b[49m\u001b[43m,\u001b[49m\u001b[43m \u001b[49m\u001b[43mpruner\u001b[49m\u001b[43m=\u001b[49m\u001b[43mpruner\u001b[49m\u001b[43m)\u001b[49m\n\u001b[32m   1386\u001b[39m \u001b[38;5;28;01mif\u001b[39;00m sampler \u001b[38;5;129;01mis\u001b[39;00m \u001b[38;5;28;01mNone\u001b[39;00m \u001b[38;5;129;01mand\u001b[39;00m \u001b[38;5;28mlen\u001b[39m(study.directions) > \u001b[32m1\u001b[39m:\n\u001b[32m   1387\u001b[39m     study.sampler = samplers.NSGAIISampler()\n",
      "\u001b[36mFile \u001b[39m\u001b[32m~/Github/LLM/llama/env/lib/python3.11/site-packages/optuna/study/study.py:87\u001b[39m, in \u001b[36mStudy.__init__\u001b[39m\u001b[34m(self, study_name, storage, sampler, pruner)\u001b[39m\n\u001b[32m     85\u001b[39m \u001b[38;5;28mself\u001b[39m.study_name = study_name\n\u001b[32m     86\u001b[39m storage = storages.get_storage(storage)\n\u001b[32m---> \u001b[39m\u001b[32m87\u001b[39m study_id = \u001b[43mstorage\u001b[49m\u001b[43m.\u001b[49m\u001b[43mget_study_id_from_name\u001b[49m\u001b[43m(\u001b[49m\u001b[43mstudy_name\u001b[49m\u001b[43m)\u001b[49m\n\u001b[32m     88\u001b[39m \u001b[38;5;28mself\u001b[39m._study_id = study_id\n\u001b[32m     89\u001b[39m \u001b[38;5;28mself\u001b[39m._storage = storage\n",
      "\u001b[36mFile \u001b[39m\u001b[32m~/Github/LLM/llama/env/lib/python3.11/site-packages/optuna/storages/_cached_storage.py:107\u001b[39m, in \u001b[36m_CachedStorage.get_study_id_from_name\u001b[39m\u001b[34m(self, study_name)\u001b[39m\n\u001b[32m    106\u001b[39m \u001b[38;5;28;01mdef\u001b[39;00m\u001b[38;5;250m \u001b[39m\u001b[34mget_study_id_from_name\u001b[39m(\u001b[38;5;28mself\u001b[39m, study_name: \u001b[38;5;28mstr\u001b[39m) -> \u001b[38;5;28mint\u001b[39m:\n\u001b[32m--> \u001b[39m\u001b[32m107\u001b[39m     \u001b[38;5;28;01mreturn\u001b[39;00m \u001b[38;5;28;43mself\u001b[39;49m\u001b[43m.\u001b[49m\u001b[43m_backend\u001b[49m\u001b[43m.\u001b[49m\u001b[43mget_study_id_from_name\u001b[49m\u001b[43m(\u001b[49m\u001b[43mstudy_name\u001b[49m\u001b[43m)\u001b[49m\n",
      "\u001b[36mFile \u001b[39m\u001b[32m~/Github/LLM/llama/env/lib/python3.11/site-packages/optuna/storages/_rdb/storage.py:331\u001b[39m, in \u001b[36mRDBStorage.get_study_id_from_name\u001b[39m\u001b[34m(self, study_name)\u001b[39m\n\u001b[32m    329\u001b[39m \u001b[38;5;28;01mdef\u001b[39;00m\u001b[38;5;250m \u001b[39m\u001b[34mget_study_id_from_name\u001b[39m(\u001b[38;5;28mself\u001b[39m, study_name: \u001b[38;5;28mstr\u001b[39m) -> \u001b[38;5;28mint\u001b[39m:\n\u001b[32m    330\u001b[39m     \u001b[38;5;28;01mwith\u001b[39;00m _create_scoped_session(\u001b[38;5;28mself\u001b[39m.scoped_session) \u001b[38;5;28;01mas\u001b[39;00m session:\n\u001b[32m--> \u001b[39m\u001b[32m331\u001b[39m         study = \u001b[43mmodels\u001b[49m\u001b[43m.\u001b[49m\u001b[43mStudyModel\u001b[49m\u001b[43m.\u001b[49m\u001b[43mfind_or_raise_by_name\u001b[49m\u001b[43m(\u001b[49m\u001b[43mstudy_name\u001b[49m\u001b[43m,\u001b[49m\u001b[43m \u001b[49m\u001b[43msession\u001b[49m\u001b[43m)\u001b[49m\n\u001b[32m    332\u001b[39m         study_id = study.study_id\n\u001b[32m    334\u001b[39m     \u001b[38;5;28;01mreturn\u001b[39;00m study_id\n",
      "\u001b[36mFile \u001b[39m\u001b[32m~/Github/LLM/llama/env/lib/python3.11/site-packages/optuna/storages/_rdb/models.py:87\u001b[39m, in \u001b[36mStudyModel.find_or_raise_by_name\u001b[39m\u001b[34m(cls, study_name, session)\u001b[39m\n\u001b[32m     85\u001b[39m study = \u001b[38;5;28mcls\u001b[39m.find_by_name(study_name, session)\n\u001b[32m     86\u001b[39m \u001b[38;5;28;01mif\u001b[39;00m study \u001b[38;5;129;01mis\u001b[39;00m \u001b[38;5;28;01mNone\u001b[39;00m:\n\u001b[32m---> \u001b[39m\u001b[32m87\u001b[39m     \u001b[38;5;28;01mraise\u001b[39;00m \u001b[38;5;167;01mKeyError\u001b[39;00m(NOT_FOUND_MSG)\n\u001b[32m     89\u001b[39m \u001b[38;5;28;01mreturn\u001b[39;00m study\n",
      "\u001b[31mKeyError\u001b[39m: 'Record does not exist.'"
     ]
    }
   ],
   "source": [
    "import optuna\n",
    "from optuna.visualization import plot_optimization_history, plot_param_importances, plot_parallel_coordinate\n",
    "\n",
    "# Load or reuse your study\n",
    "study = optuna.load_study(study_name=\"shared_010_scaled\", storage=\"sqlite:///yolo_hpo.db\")  # or other DB\n",
    "\n",
    "# Plot optimization history (objective value per trial)\n",
    "plot_optimization_history(study).show()\n",
    "\n",
    "# Plot parameter importance (what params matter most)\n",
    "plot_param_importances(study).show()\n",
    "\n",
    "# Parallel coordinate plot (see combinations of good params)\n",
    "plot_parallel_coordinate(study).show()"
   ]
  },
  {
   "cell_type": "code",
   "execution_count": null,
   "id": "af71f011",
   "metadata": {},
   "outputs": [],
   "source": []
  }
 ],
 "metadata": {
  "kernelspec": {
   "display_name": "Python 3",
   "language": "python",
   "name": "python3"
  },
  "language_info": {
   "codemirror_mode": {
    "name": "ipython",
    "version": 3
   },
   "file_extension": ".py",
   "mimetype": "text/x-python",
   "name": "python",
   "nbconvert_exporter": "python",
   "pygments_lexer": "ipython3",
   "version": "3.11.11"
  }
 },
 "nbformat": 4,
 "nbformat_minor": 5
}
